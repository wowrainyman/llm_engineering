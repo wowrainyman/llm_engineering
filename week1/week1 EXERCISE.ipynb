{
 "cells": [
  {
   "cell_type": "markdown",
   "id": "fe12c203-e6a6-452c-a655-afb8a03a4ff5",
   "metadata": {},
   "source": [
    "# End of week 1 exercise\n",
    "\n",
    "To demonstrate your familiarity with OpenAI API, and also Ollama, build a tool that takes a technical question,  \n",
    "and responds with an explanation. This is a tool that you will be able to use yourself during the course!"
   ]
  },
  {
   "cell_type": "code",
   "execution_count": 1,
   "id": "c1070317-3ed9-4659-abe3-828943230e03",
   "metadata": {},
   "outputs": [],
   "source": [
    "# imports\n",
    "import os\n",
    "from dotenv import load_dotenv\n",
    "from IPython.display import Markdown, display, update_display\n",
    "from openai import OpenAI"
   ]
  },
  {
   "cell_type": "code",
   "execution_count": 6,
   "id": "5524d12b",
   "metadata": {},
   "outputs": [
    {
     "name": "stdout",
     "output_type": "stream",
     "text": [
      "API key looks good so far\n"
     ]
    }
   ],
   "source": [
    "# Initialize and constants\n",
    "\n",
    "load_dotenv(override=True)\n",
    "api_key = os.getenv('OPENAI_API_KEY')\n",
    "\n",
    "if api_key and api_key.startswith('sk-proj-') and len(api_key)>10:\n",
    "    print(\"API key looks good so far\")\n",
    "else:\n",
    "    print(\"There might be a problem with your API key? Please visit the troubleshooting notebook!\")\n",
    "    \n",
    "MODEL_GPT = 'gpt-4o-mini'\n",
    "MODEL_LLAMA = 'llama3.2'\n",
    "\n",
    "openai = OpenAI()"
   ]
  },
  {
   "cell_type": "code",
   "execution_count": 3,
   "id": "a8d7923c-5f28-4c30-8556-342d7c8497c1",
   "metadata": {},
   "outputs": [],
   "source": [
    "# set up environment\n",
    "\n",
    "system_prompt = \"\"\"\n",
    "You are a tutor for a student who is learning Programming.\n",
    "You are very patient and you always try to explain things in a way that is easy to understand.\n",
    "You are also very good at giving examples and analogies to help the student understand.\n",
    "You are very good at answering questions and you always try to give the student the best possible answer.\n",
    "You are also very good at giving the student feedback on their code and you always try to help them improve their code.\n",
    "\"\"\""
   ]
  },
  {
   "cell_type": "code",
   "execution_count": 4,
   "id": "3f0d0137-52b0-47a8-81a8-11a90a010798",
   "metadata": {},
   "outputs": [],
   "source": [
    "# here is the question; type over this to ask something new\n",
    "\n",
    "question = \"\"\"\n",
    "Please explain what this code does and why:\n",
    "yield from {book.get(\"author\") for book in books if book.get(\"author\")}\n",
    "\"\"\"\n",
    "\n",
    "messages = [\n",
    "    {\"role\": \"system\", \"content\": system_prompt},\n",
    "    {\"role\": \"user\", \"content\": question}\n",
    "]\n"
   ]
  },
  {
   "cell_type": "code",
   "execution_count": 7,
   "id": "60ce7000-a4a5-4cce-a261-e75ef45063b4",
   "metadata": {},
   "outputs": [
    {
     "data": {
      "text/markdown": [
       "Sure! Let's break down what this code does step by step. \n",
       "\n",
       "### Code Explanation:\n",
       "\n",
       "1. **Understanding `yield from`**: \n",
       "   The `yield from` expression is used in a generator function. It allows you to yield all values from an iterable (like a list or set) one by one. This is simpler than looping through the iterable and yielding each value individually. \n",
       "\n",
       "2. **Set Comprehension**: \n",
       "   `{book.get(\"author\") for book in books if book.get(\"author\")}` is a set comprehension. Set comprehensions are similar to list comprehensions but they create a set. A set is a collection of unique items. The code inside the curly brackets does the following:\n",
       "   - It iterates over a collection called `books`.\n",
       "   - For each `book`, it attempts to get the value associated with the key `\"author\"` using `book.get(\"author\")`.\n",
       "   - The `if book.get(\"author\")` condition ensures that only books that have a valid (non-`None`) author will be included in the set. If a book does not have an author, it will be skipped.\n",
       "\n",
       "3. **Final Result**:\n",
       "   - The result of the set comprehension is a set of unique authors from the `books` list, excluding any entries where the author is `None` or does not exist.\n",
       "   - The `yield from` then takes this set and yields each unique author one at a time when this generator function is called.\n",
       "\n",
       "### Example:\n",
       "Let’s say you have a list of books structured like this:\n",
       "python\n",
       "books = [\n",
       "    {\"title\": \"Book A\", \"author\": \"Author 1\"},\n",
       "    {\"title\": \"Book B\", \"author\": \"Author 2\"},\n",
       "    {\"title\": \"Book C\", \"author\": None},\n",
       "    {\"title\": \"Book D\", \"author\": \"Author 1\"},\n",
       "    {\"title\": \"Book E\", \"author\": \"Author 3\"}\n",
       "]\n",
       "\n",
       "\n",
       "When you run the code `yield from {book.get(\"author\") for book in books if book.get(\"author\")}`, it would yield the authors:\n",
       "- Author 1 (twice in the books list, but since it's a set, it is unique),\n",
       "- Author 2,\n",
       "- Author 3.\n",
       "\n",
       "### Importance of Using a Set:\n",
       "Using a set is very useful in this case because it automatically removes duplicates. If we had just used a list comprehension instead, you would have gotten a list with repeating authors.\n",
       "\n",
       "### Conclusion:\n",
       "In summary, this code efficiently creates a generator that yields each unique author from a list of books, skipping any books that do not have an author, while ensuring that there are no duplicate author entries. \n",
       "\n",
       "Let me know if you need any more clarification or have further questions!"
      ],
      "text/plain": [
       "<IPython.core.display.Markdown object>"
      ]
     },
     "metadata": {},
     "output_type": "display_data"
    }
   ],
   "source": [
    "# Get gpt-4o-mini to answer, with streaming\n",
    "def get_answer(messages):\n",
    "    stream = openai.chat.completions.create(\n",
    "        model=MODEL_GPT,\n",
    "        messages=messages,\n",
    "        stream=True\n",
    "    )\n",
    "    response = \"\"\n",
    "    display_handle = display(Markdown(\"\"), display_id=True)\n",
    "    for chunk in stream:\n",
    "        response += chunk.choices[0].delta.content or ''\n",
    "        response = response.replace(\"```\",\"\").replace(\"markdown\", \"\")\n",
    "        update_display(Markdown(response), display_id=display_handle.display_id)\n",
    "\n",
    "get_answer(messages)\n"
   ]
  },
  {
   "cell_type": "code",
   "execution_count": 10,
   "id": "8f7c8ea8-4082-4ad0-8751-3301adcf6538",
   "metadata": {},
   "outputs": [
    {
     "data": {
      "text/markdown": [
       "Let's break down this code step by step.\n",
       "\n",
       "This line of code uses a feature called \"generator expression\" in Python. A generator expression is similar to a list comprehension, but it returns a generator object instead of creating an entire list in memory.\n",
       "\n",
       "Here's what each part does:\n",
       "\n",
       "- `yield from`: This keyword \"yields values from\", meaning that the block of code inside the parentheses will produce a series of results and this line tells python to \"yield\" those results when called as one function. It can be though like we're saying here is some other function that gives us an idea of what the author values are.\n",
       "\n",
       "- `{ ... }`: This is the dictionary literal, which shows the structure that the data will go into a dictionary from your list with `book` and `.get(\"author\")`. It's \"dictionary key: value\".\n",
       "\n",
       "- `(book.get(\"author\"))`: Here 'book.get(\"author\")' gets author info for our dict. It's also just showing to us what is in that place so we could print them individually.\n",
       "\n",
       "So, putting it all together:\n",
       "\n",
       "`yield from {book.get(\"author\") for book in books if book.get(\"author\")}` \n",
       "\n",
       "If you take a collection of \"books\" (they don't have an author), this expression will give back `None`. But then the iteration of values in those dictionaries returns something with only book name.\n",
       "\n",
       "This line means we want to yield all the authors from our list, but not any books that don't contain an author info."
      ],
      "text/plain": [
       "<IPython.core.display.Markdown object>"
      ]
     },
     "metadata": {},
     "output_type": "display_data"
    }
   ],
   "source": [
    "# Get Llama 3.2 to answer\n",
    "ollama_via_openai = OpenAI(base_url='http://localhost:11434/v1', api_key='ollama')\n",
    "def get_answer_llama(messages):\n",
    "    stream = ollama_via_openai.chat.completions.create(\n",
    "        model=MODEL_LLAMA,\n",
    "        messages=messages,\n",
    "        stream=True,\n",
    "        \n",
    "    )\n",
    "    response = \"\"\n",
    "    display_handle = display(Markdown(\"\"), display_id=True)\n",
    "    for chunk in stream:\n",
    "        response += chunk.choices[0].delta.content or ''\n",
    "        response = response.replace(\"```\",\"\").replace(\"markdown\", \"\")\n",
    "        update_display(Markdown(response), display_id=display_handle.display_id)\n",
    "\n",
    "get_answer_llama(messages)"
   ]
  },
  {
   "cell_type": "code",
   "execution_count": null,
   "id": "a8ec9f40",
   "metadata": {},
   "outputs": [],
   "source": []
  }
 ],
 "metadata": {
  "kernelspec": {
   "display_name": "llms",
   "language": "python",
   "name": "python3"
  },
  "language_info": {
   "codemirror_mode": {
    "name": "ipython",
    "version": 3
   },
   "file_extension": ".py",
   "mimetype": "text/x-python",
   "name": "python",
   "nbconvert_exporter": "python",
   "pygments_lexer": "ipython3",
   "version": "3.11.12"
  }
 },
 "nbformat": 4,
 "nbformat_minor": 5
}
